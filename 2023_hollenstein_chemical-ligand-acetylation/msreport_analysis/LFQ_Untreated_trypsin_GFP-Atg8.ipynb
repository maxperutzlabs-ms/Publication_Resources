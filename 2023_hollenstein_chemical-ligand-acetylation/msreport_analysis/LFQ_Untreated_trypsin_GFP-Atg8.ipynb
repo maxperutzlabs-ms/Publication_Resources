{
 "cells": [
  {
   "cell_type": "markdown",
   "id": "5a40f66e-7544-49dc-95f6-574ca1c0c681",
   "metadata": {
    "tags": []
   },
   "source": [
    "# Processing of FragPipe results with MsReport"
   ]
  },
  {
   "cell_type": "markdown",
   "id": "c97bca59-7f2c-4da9-a483-3c60c6ca26a6",
   "metadata": {},
   "source": [
    "## Library imports and notebook settings\n",
    "- Created with MsReport version 0.0.13"
   ]
  },
  {
   "cell_type": "code",
   "execution_count": 1,
   "id": "086978ab-bc2f-4e0e-8228-e1d49071fa08",
   "metadata": {},
   "outputs": [],
   "source": [
    "from IPython.display import display\n",
    "import os\n",
    "\n",
    "import msreport.helper\n",
    "import msreport_scripts.excel_report\n",
    "from msreport.rinterface import r_package_version"
   ]
  },
  {
   "cell_type": "code",
   "execution_count": 2,
   "id": "e34d18cd-9f78-41c9-beff-dbf24155fe16",
   "metadata": {},
   "outputs": [
    {
     "name": "stdout",
     "output_type": "stream",
     "text": [
      "MsReport version: 0.0.13\n",
      "LIMMA version: 3.54.2\n"
     ]
    }
   ],
   "source": [
    "print(f\"MsReport version: {msreport.__version__}\")\n",
    "print(f\"LIMMA version:\", r_package_version(\"LIMMA\"))"
   ]
  },
  {
   "cell_type": "code",
   "execution_count": 3,
   "id": "a63a95fb-19eb-4563-9562-cd7129bd1248",
   "metadata": {},
   "outputs": [],
   "source": [
    "msreport.plot.set_dpi(90)"
   ]
  },
  {
   "cell_type": "markdown",
   "id": "5443a119-07ac-4709-9aad-5afab568f1af",
   "metadata": {},
   "source": [
    "## Parameters"
   ]
  },
  {
   "cell_type": "code",
   "execution_count": 4,
   "id": "63363d86-8e8d-4b96-9e04-163855310061",
   "metadata": {},
   "outputs": [],
   "source": [
    "# General settings\n",
    "special_proteins = [\"P38182\", \"P40344\", \"P38862\", \"3OGO\"]\n",
    "expression_tag = \"Intensity\"\n",
    "batch_correction = False  # To use LIMMA with batch correction, set this variable to True and add a \"Batch\" column to the design\n",
    "\n",
    "# Protein validation parameters\n",
    "min_peptides = 2\n",
    "min_quantified_values = 2\n",
    "\n",
    "# Imputation parameters\n",
    "imputation_parameters = {\"column_wise\": True, \"seed\": 64}\n",
    "\n",
    "# Define input and output paths\n",
    "search_dir = \"../ms_data/GFP-Atg8_trypsin_untreated\"\n",
    "fasta_path = [\n",
    "    \"../database/2022.01_UP000002311_559292_Saccaromyces_cerevisiae_1protein_per_gene.fasta\",\n",
    "    \"../database/gfp_nanobody_contaminants_with_tag.fasta\"\n",
    "]\n",
    "output_dir = \"../qtable_data\"\n",
    "output_basename = \"GFP-Atg8_trypsin_untreated\""
   ]
  },
  {
   "cell_type": "code",
   "execution_count": 5,
   "id": "54b1e1f0-ab39-4d0d-9322-ef9a06ff2dc2",
   "metadata": {},
   "outputs": [],
   "source": [
    "# Generate default output names\n",
    "excel_report_filepath = os.path.join(output_dir, \"_\".join([output_basename, \"protein_report.xlsx\"]))\n",
    "amica_table_filename = \"_\".join([output_basename, \"amica_table.tsv\"])\n",
    "amica_design_filename = \"_\".join([output_basename, \"amica_design.tsv\"])"
   ]
  },
  {
   "cell_type": "markdown",
   "id": "c2ecb3eb-a636-4cc9-a134-48edfb541b45",
   "metadata": {
    "tags": []
   },
   "source": [
    "## Import and process data"
   ]
  },
  {
   "cell_type": "markdown",
   "id": "1e8d8039-0231-443a-9a61-e8a3fc1c6bdf",
   "metadata": {},
   "source": [
    "### Import search results and protein database"
   ]
  },
  {
   "cell_type": "code",
   "execution_count": 6,
   "id": "85ec7b70-c314-493c-aa03-c9d0db957acb",
   "metadata": {
    "tags": []
   },
   "outputs": [
    {
     "data": {
      "text/html": [
       "<div>\n",
       "<style scoped>\n",
       "    .dataframe tbody tr th:only-of-type {\n",
       "        vertical-align: middle;\n",
       "    }\n",
       "\n",
       "    .dataframe tbody tr th {\n",
       "        vertical-align: top;\n",
       "    }\n",
       "\n",
       "    .dataframe thead th {\n",
       "        text-align: right;\n",
       "    }\n",
       "</style>\n",
       "<table border=\"1\" class=\"dataframe\">\n",
       "  <thead>\n",
       "    <tr style=\"text-align: right;\">\n",
       "      <th></th>\n",
       "      <th>0</th>\n",
       "    </tr>\n",
       "  </thead>\n",
       "  <tbody>\n",
       "    <tr>\n",
       "      <th>Sample</th>\n",
       "      <td>GFP_Atg8</td>\n",
       "    </tr>\n",
       "    <tr>\n",
       "      <th>Experiment</th>\n",
       "      <td>GFP_Atg8</td>\n",
       "    </tr>\n",
       "    <tr>\n",
       "      <th>Replicate</th>\n",
       "      <td>Atg8</td>\n",
       "    </tr>\n",
       "  </tbody>\n",
       "</table>\n",
       "</div>"
      ],
      "text/plain": [
       "                   0\n",
       "Sample      GFP_Atg8\n",
       "Experiment  GFP_Atg8\n",
       "Replicate       Atg8"
      ]
     },
     "metadata": {},
     "output_type": "display_data"
    }
   ],
   "source": [
    "reader = msreport.FragPipeReader(search_dir)\n",
    "protein_table = reader.import_proteins()\n",
    "peptide_table = reader.import_peptides()\n",
    "\n",
    "design = msreport.helper.guess_design(protein_table, tag=\"Intensity\")\n",
    "design[\"Experiment\"] = [\"GFP_Atg8\"]\n",
    "display(design.T)\n",
    "\n",
    "protein_db = msreport.import_protein_database(fasta_path)"
   ]
  },
  {
   "cell_type": "markdown",
   "id": "054ead07-fcb8-49a8-bd6d-c81ebc3073c2",
   "metadata": {},
   "source": [
    "### Add additional annotations to the protein table"
   ]
  },
  {
   "cell_type": "code",
   "execution_count": 7,
   "id": "c7cea478-54f8-4b3e-8476-a0e27680a2f8",
   "metadata": {},
   "outputs": [],
   "source": [
    "msreport.reader.add_protein_annotation(\n",
    "    protein_table,\n",
    "    protein_db,\n",
    "    gene_name=True,\n",
    "    protein_name=True,\n",
    "    protein_length=True,\n",
    "    molecular_weight=True,\n",
    "    fasta_header=True,\n",
    "    ibaq_peptides=True,\n",
    ")\n",
    "msreport.reader.add_ibaq_intensities(protein_table, normalize=True)\n",
    "msreport.reader.propagate_representative_protein(peptide_table, protein_table)\n",
    "msreport.reader.add_peptide_positions(peptide_table, protein_db)\n",
    "msreport.reader.add_sequence_coverage(protein_table, peptide_table)"
   ]
  },
  {
   "cell_type": "markdown",
   "id": "0fea4f75-2eb3-4ac2-ab82-86e9949fadb4",
   "metadata": {},
   "source": [
    "### Create a qtable, set expression values and validate data"
   ]
  },
  {
   "cell_type": "code",
   "execution_count": 8,
   "id": "db46edc1-91dd-48f6-855f-e8d237b4aefe",
   "metadata": {},
   "outputs": [],
   "source": [
    "qtable = msreport.Qtable(protein_table, design=design)\n",
    "qtable.set_expression_by_tag(expression_tag, log2=True)\n",
    "\n",
    "msreport.analyze.analyze_missingness(qtable)\n",
    "msreport.analyze.validate_proteins(qtable, min_peptides=min_peptides, min_events=min_quantified_values)"
   ]
  },
  {
   "cell_type": "markdown",
   "id": "1ae9fa2b-0617-4220-9c2c-39a8d95273e6",
   "metadata": {
    "tags": []
   },
   "source": [
    "## Quality control"
   ]
  },
  {
   "cell_type": "markdown",
   "id": "692c6600-e95f-4911-b164-818175396fe0",
   "metadata": {},
   "source": [
    "### Contaminants"
   ]
  },
  {
   "cell_type": "code",
   "execution_count": 9,
   "id": "e4569e18-56c6-46f6-97ce-d8beb0025a35",
   "metadata": {
    "tags": []
   },
   "outputs": [
    {
     "data": {
      "image/png": "[encoded data removed]",
      "text/plain": [
       "<Figure size 117x270 with 1 Axes>"
      ]
     },
     "metadata": {},
     "output_type": "display_data"
    }
   ],
   "source": [
    "fig, axes = msreport.plot.contaminants(qtable)"
   ]
  },
  {
   "cell_type": "markdown",
   "id": "507090dd-a716-4942-b29f-cc5f641197bf",
   "metadata": {},
   "source": [
    "## Export data"
   ]
  },
  {
   "cell_type": "code",
   "execution_count": 10,
   "id": "b2f15a80-3d0c-4151-aadf-f87b3abe731e",
   "metadata": {
    "tags": []
   },
   "outputs": [],
   "source": [
    "qtable.save(output_dir, output_basename)"
   ]
  },
  {
   "cell_type": "code",
   "execution_count": 11,
   "id": "5ae91ece-4d59-468c-ba56-557c27683fb4",
   "metadata": {},
   "outputs": [],
   "source": [
    "msreport_scripts.excel_report.write_protein_report(\n",
    "    qtable.data,\n",
    "    qtable.design,\n",
    "    excel_report_filepath,\n",
    "    special_proteins=special_proteins,\n",
    "    sort_by=\"Spectral count Combined\",\n",
    ")"
   ]
  }
 ],
 "metadata": {
  "kernelspec": {
   "display_name": "Python [conda env:test_230714]",
   "language": "python",
   "name": "conda-env-test_230714-py"
  },
  "language_info": {
   "codemirror_mode": {
    "name": "ipython",
    "version": 3
   },
   "file_extension": ".py",
   "mimetype": "text/x-python",
   "name": "python",
   "nbconvert_exporter": "python",
   "pygments_lexer": "ipython3",
   "version": "3.9.17"
  },
  "toc-autonumbering": false,
  "toc-showcode": false,
  "toc-showmarkdowntxt": true
 },
 "nbformat": 4,
 "nbformat_minor": 5
}
