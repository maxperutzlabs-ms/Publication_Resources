{
 "cells": [
  {
   "cell_type": "markdown",
   "id": "5a40f66e-7544-49dc-95f6-574ca1c0c681",
   "metadata": {
    "tags": []
   },
   "source": [
    "# Processing of FragPipe results with MsReport"
   ]
  },
  {
   "cell_type": "markdown",
   "id": "71ceaf22-9e1f-468b-832d-b131453cedbe",
   "metadata": {},
   "source": [
    "## Library imports and notebook settings\n",
    "- Created with MsReport version 0.0.13"
   ]
  },
  {
   "cell_type": "code",
   "execution_count": 1,
   "id": "086978ab-bc2f-4e0e-8228-e1d49071fa08",
   "metadata": {},
   "outputs": [],
   "source": [
    "from IPython.display import display\n",
    "import os\n",
    "\n",
    "import msreport.helper\n",
    "import msreport_scripts.excel_report\n",
    "from msreport.rinterface import r_package_version"
   ]
  },
  {
   "cell_type": "code",
   "execution_count": 2,
   "id": "e34d18cd-9f78-41c9-beff-dbf24155fe16",
   "metadata": {},
   "outputs": [
    {
     "name": "stdout",
     "output_type": "stream",
     "text": [
      "MsReport version: 0.0.13\n",
      "LIMMA version: 3.54.2\n"
     ]
    }
   ],
   "source": [
    "print(f\"MsReport version: {msreport.__version__}\")\n",
    "print(f\"LIMMA version:\", r_package_version(\"LIMMA\"))"
   ]
  },
  {
   "cell_type": "code",
   "execution_count": 3,
   "id": "a63a95fb-19eb-4563-9562-cd7129bd1248",
   "metadata": {},
   "outputs": [],
   "source": [
    "msreport.plot.set_dpi(90)"
   ]
  },
  {
   "cell_type": "markdown",
   "id": "5443a119-07ac-4709-9aad-5afab568f1af",
   "metadata": {},
   "source": [
    "## Parameters"
   ]
  },
  {
   "cell_type": "code",
   "execution_count": 4,
   "id": "63363d86-8e8d-4b96-9e04-163855310061",
   "metadata": {},
   "outputs": [],
   "source": [
    "# General settings\n",
    "special_proteins = [\"contam_P22629\"]\n",
    "comparison_groups = []\n",
    "expression_tag = \"LFQ intensity\"\n",
    "batch_correction = False  # To use LIMMA with batch correction, set this variable to True and add a \"Batch\" column to the design\n",
    "\n",
    "# Protein validation parameters\n",
    "min_peptides = 2\n",
    "min_quantified_values = 2\n",
    "\n",
    "# Imputation parameters\n",
    "imputation_parameters = {\"column_wise\": True, \"seed\": 64}\n",
    "\n",
    "# Define input and output paths\n",
    "search_dir = \"../ms_data/Strp-bead_Acetylation\"\n",
    "fasta_path = [\n",
    "    \"../database/2022.01_UP000002311_559292_Saccaromyces_cerevisiae_1protein_per_gene.fasta\",\n",
    "    \"../database/gfp_nanobody_contaminants_with_tag.fasta\"\n",
    "]\n",
    "output_dir = \"../qtable_data\"\n",
    "output_basename = \"Strp-bead_Acetylation\""
   ]
  },
  {
   "cell_type": "code",
   "execution_count": 5,
   "id": "54b1e1f0-ab39-4d0d-9322-ef9a06ff2dc2",
   "metadata": {},
   "outputs": [],
   "source": [
    "# Generate default output names\n",
    "excel_report_filepath = os.path.join(output_dir, \"_\".join([output_basename, \"protein_report.xlsx\"]))"
   ]
  },
  {
   "cell_type": "markdown",
   "id": "c2ecb3eb-a636-4cc9-a134-48edfb541b45",
   "metadata": {
    "tags": []
   },
   "source": [
    "## Import and process data"
   ]
  },
  {
   "cell_type": "markdown",
   "id": "1e8d8039-0231-443a-9a61-e8a3fc1c6bdf",
   "metadata": {},
   "source": [
    "### Import search results and protein database"
   ]
  },
  {
   "cell_type": "code",
   "execution_count": 6,
   "id": "85ec7b70-c314-493c-aa03-c9d0db957acb",
   "metadata": {
    "tags": []
   },
   "outputs": [
    {
     "data": {
      "text/html": [
       "<div>\n",
       "<style scoped>\n",
       "    .dataframe tbody tr th:only-of-type {\n",
       "        vertical-align: middle;\n",
       "    }\n",
       "\n",
       "    .dataframe tbody tr th {\n",
       "        vertical-align: top;\n",
       "    }\n",
       "\n",
       "    .dataframe thead th {\n",
       "        text-align: right;\n",
       "    }\n",
       "</style>\n",
       "<table border=\"1\" class=\"dataframe\">\n",
       "  <thead>\n",
       "    <tr style=\"text-align: right;\">\n",
       "      <th></th>\n",
       "      <th>0</th>\n",
       "      <th>1</th>\n",
       "      <th>4</th>\n",
       "      <th>5</th>\n",
       "      <th>8</th>\n",
       "      <th>9</th>\n",
       "      <th>2</th>\n",
       "      <th>3</th>\n",
       "      <th>6</th>\n",
       "      <th>7</th>\n",
       "    </tr>\n",
       "  </thead>\n",
       "  <tbody>\n",
       "    <tr>\n",
       "      <th>Sample</th>\n",
       "      <td>Strp_beads_NHS_Ac_0nM_1</td>\n",
       "      <td>Strp_beads_NHS_Ac_0nM_2</td>\n",
       "      <td>Strp_beads_NHS_Ac_100nM_1</td>\n",
       "      <td>Strp_beads_NHS_Ac_100nM_2</td>\n",
       "      <td>Strp_beads_NHS_Ac_500nM_1</td>\n",
       "      <td>Strp_beads_NHS_Ac_500nM_2</td>\n",
       "      <td>Strp_beads_NHS_Ac_1000nM_1</td>\n",
       "      <td>Strp_beads_NHS_Ac_1000nM_2</td>\n",
       "      <td>Strp_beads_NHS_Ac_5000nM_1</td>\n",
       "      <td>Strp_beads_NHS_Ac_5000nM_2</td>\n",
       "    </tr>\n",
       "    <tr>\n",
       "      <th>Experiment</th>\n",
       "      <td>Acetylation 0nM</td>\n",
       "      <td>Acetylation 0nM</td>\n",
       "      <td>Acetylation 100nM</td>\n",
       "      <td>Acetylation 100nM</td>\n",
       "      <td>Acetylation 500nM</td>\n",
       "      <td>Acetylation 500nM</td>\n",
       "      <td>Acetylation 1000nM</td>\n",
       "      <td>Acetylation 1000nM</td>\n",
       "      <td>Acetylation 5000nM</td>\n",
       "      <td>Acetylation 5000nM</td>\n",
       "    </tr>\n",
       "    <tr>\n",
       "      <th>Replicate</th>\n",
       "      <td>1</td>\n",
       "      <td>2</td>\n",
       "      <td>1</td>\n",
       "      <td>2</td>\n",
       "      <td>1</td>\n",
       "      <td>2</td>\n",
       "      <td>1</td>\n",
       "      <td>2</td>\n",
       "      <td>1</td>\n",
       "      <td>2</td>\n",
       "    </tr>\n",
       "    <tr>\n",
       "      <th>Concentration</th>\n",
       "      <td>0</td>\n",
       "      <td>0</td>\n",
       "      <td>100</td>\n",
       "      <td>100</td>\n",
       "      <td>500</td>\n",
       "      <td>500</td>\n",
       "      <td>1000</td>\n",
       "      <td>1000</td>\n",
       "      <td>5000</td>\n",
       "      <td>5000</td>\n",
       "    </tr>\n",
       "  </tbody>\n",
       "</table>\n",
       "</div>"
      ],
      "text/plain": [
       "                                     0                        1  \\\n",
       "Sample         Strp_beads_NHS_Ac_0nM_1  Strp_beads_NHS_Ac_0nM_2   \n",
       "Experiment             Acetylation 0nM          Acetylation 0nM   \n",
       "Replicate                            1                        2   \n",
       "Concentration                        0                        0   \n",
       "\n",
       "                                       4                          5  \\\n",
       "Sample         Strp_beads_NHS_Ac_100nM_1  Strp_beads_NHS_Ac_100nM_2   \n",
       "Experiment             Acetylation 100nM          Acetylation 100nM   \n",
       "Replicate                              1                          2   \n",
       "Concentration                        100                        100   \n",
       "\n",
       "                                       8                          9  \\\n",
       "Sample         Strp_beads_NHS_Ac_500nM_1  Strp_beads_NHS_Ac_500nM_2   \n",
       "Experiment             Acetylation 500nM          Acetylation 500nM   \n",
       "Replicate                              1                          2   \n",
       "Concentration                        500                        500   \n",
       "\n",
       "                                        2                           3  \\\n",
       "Sample         Strp_beads_NHS_Ac_1000nM_1  Strp_beads_NHS_Ac_1000nM_2   \n",
       "Experiment             Acetylation 1000nM          Acetylation 1000nM   \n",
       "Replicate                               1                           2   \n",
       "Concentration                        1000                        1000   \n",
       "\n",
       "                                        6                           7  \n",
       "Sample         Strp_beads_NHS_Ac_5000nM_1  Strp_beads_NHS_Ac_5000nM_2  \n",
       "Experiment             Acetylation 5000nM          Acetylation 5000nM  \n",
       "Replicate                               1                           2  \n",
       "Concentration                        5000                        5000  "
      ]
     },
     "metadata": {},
     "output_type": "display_data"
    }
   ],
   "source": [
    "reader = msreport.FragPipeReader(search_dir)\n",
    "protein_table = reader.import_proteins()\n",
    "peptide_table = reader.import_peptides()\n",
    "\n",
    "design = msreport.helper.guess_design(protein_table, tag=\"Intensity\")\n",
    "design[\"Experiment\"] = [e.replace(\"Strp_beads_NHS_Ac_\", \"Acetylation \") for e in design[\"Experiment\"]]\n",
    "design[\"Concentration\"] = [int(e.replace(\"Acetylation \", \"\").replace(\"nM\", \"\")) for e in design[\"Experiment\"]]\n",
    "design.sort_values(\"Concentration\", inplace=True)\n",
    "display(design.T)\n",
    "\n",
    "protein_db = msreport.import_protein_database(fasta_path)"
   ]
  },
  {
   "cell_type": "markdown",
   "id": "054ead07-fcb8-49a8-bd6d-c81ebc3073c2",
   "metadata": {},
   "source": [
    "### Add additional annotations to the protein table"
   ]
  },
  {
   "cell_type": "code",
   "execution_count": 7,
   "id": "c7cea478-54f8-4b3e-8476-a0e27680a2f8",
   "metadata": {},
   "outputs": [],
   "source": [
    "msreport.reader.add_protein_annotation(\n",
    "    protein_table,\n",
    "    protein_db,\n",
    "    gene_name=True,\n",
    "    protein_name=True,\n",
    "    protein_length=True,\n",
    "    molecular_weight=True,\n",
    "    fasta_header=True,\n",
    "    ibaq_peptides=True,\n",
    ")\n",
    "msreport.reader.add_ibaq_intensities(protein_table, normalize=True)\n",
    "msreport.reader.propagate_representative_protein(peptide_table, protein_table)\n",
    "msreport.reader.add_peptide_positions(peptide_table, protein_db)\n",
    "msreport.reader.add_sequence_coverage(protein_table, peptide_table)"
   ]
  },
  {
   "cell_type": "markdown",
   "id": "0fea4f75-2eb3-4ac2-ab82-86e9949fadb4",
   "metadata": {},
   "source": [
    "### Create a qtable, set expression values and validate data"
   ]
  },
  {
   "cell_type": "code",
   "execution_count": 8,
   "id": "db46edc1-91dd-48f6-855f-e8d237b4aefe",
   "metadata": {},
   "outputs": [],
   "source": [
    "qtable = msreport.Qtable(protein_table, design=design)\n",
    "qtable.set_expression_by_tag(expression_tag, log2=True)\n",
    "\n",
    "msreport.analyze.analyze_missingness(qtable)\n",
    "msreport.analyze.validate_proteins(\n",
    "    qtable,\n",
    "    min_peptides=min_peptides,\n",
    "    min_events=min_quantified_values,\n",
    "    remove_contaminants=False\n",
    ")"
   ]
  },
  {
   "cell_type": "code",
   "execution_count": 9,
   "id": "e7f17947-b437-43a7-b2ef-f22fa65ac3a4",
   "metadata": {},
   "outputs": [],
   "source": [
    "peptide_qtable = msreport.Qtable(peptide_table, design=design)\n",
    "peptide_qtable.set_expression_by_tag(expression_tag, log2=True)"
   ]
  },
  {
   "cell_type": "markdown",
   "id": "ab1ec4fd-4395-49eb-9bae-d91c1a938195",
   "metadata": {},
   "source": [
    "### Perform comparative analysis"
   ]
  },
  {
   "cell_type": "code",
   "execution_count": 10,
   "id": "578c255d-6ae6-4925-bf5d-07ba44f3a9cf",
   "metadata": {},
   "outputs": [],
   "source": [
    "msreport.analyze.calculate_experiment_means(qtable)\n",
    "msreport.analyze.calculate_experiment_means(peptide_qtable)"
   ]
  },
  {
   "cell_type": "markdown",
   "id": "507090dd-a716-4942-b29f-cc5f641197bf",
   "metadata": {},
   "source": [
    "## Export data"
   ]
  },
  {
   "cell_type": "code",
   "execution_count": 11,
   "id": "b2f15a80-3d0c-4151-aadf-f87b3abe731e",
   "metadata": {
    "tags": []
   },
   "outputs": [],
   "source": [
    "qtable.save(output_dir, output_basename)\n",
    "peptide_qtable.save(output_dir, f\"{output_basename}_peptides\")"
   ]
  },
  {
   "cell_type": "code",
   "execution_count": 12,
   "id": "5ae91ece-4d59-468c-ba56-557c27683fb4",
   "metadata": {},
   "outputs": [],
   "source": [
    "msreport_scripts.excel_report.write_protein_report(\n",
    "    qtable.data,\n",
    "    qtable.design,\n",
    "    excel_report_filepath,\n",
    "    special_proteins=special_proteins,\n",
    "    sort_by=\"Spectral count Combined\",\n",
    ")"
   ]
  }
 ],
 "metadata": {
  "kernelspec": {
   "display_name": "Python [conda env:test_230714]",
   "language": "python",
   "name": "conda-env-test_230714-py"
  },
  "language_info": {
   "codemirror_mode": {
    "name": "ipython",
    "version": 3
   },
   "file_extension": ".py",
   "mimetype": "text/x-python",
   "name": "python",
   "nbconvert_exporter": "python",
   "pygments_lexer": "ipython3",
   "version": "3.9.17"
  },
  "toc-autonumbering": false,
  "toc-showcode": false,
  "toc-showmarkdowntxt": true
 },
 "nbformat": 4,
 "nbformat_minor": 5
}
