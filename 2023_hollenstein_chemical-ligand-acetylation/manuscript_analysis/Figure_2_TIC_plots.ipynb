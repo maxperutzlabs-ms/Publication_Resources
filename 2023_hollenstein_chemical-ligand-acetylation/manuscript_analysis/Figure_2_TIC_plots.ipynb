{
 "cells": [
  {
   "cell_type": "code",
   "execution_count": 1,
   "id": "0aad4c6f-373f-4f80-b46d-33b33d17c8fb",
   "metadata": {},
   "outputs": [],
   "source": [
    "from IPython.display import display\n",
    "import os\n",
    "import sys\n",
    "\n",
    "import maspy.reader\n",
    "import matplotlib.pyplot as plt\n",
    "import pandas as pd\n",
    "import seaborn as sns\n",
    "\n",
    "sys.path.append(\"..\")\n",
    "from python_scripts import ticplot"
   ]
  },
  {
   "cell_type": "code",
   "execution_count": 2,
   "id": "1a561bc3-be3a-477b-b81f-a27adfe77125",
   "metadata": {},
   "outputs": [],
   "source": [
    "plt.rcParams[\"pdf.fonttype\"] = 42\n",
    "plt.rcParams[\"font.family\"] = \"Arial\""
   ]
  },
  {
   "cell_type": "markdown",
   "id": "5e9b5ebe-92bc-4871-b889-b33ac4840ab1",
   "metadata": {},
   "source": [
    "## Define parameters, load mzml files"
   ]
  },
  {
   "cell_type": "code",
   "execution_count": 3,
   "id": "8174638a-4825-48fa-bf6a-7d29f2f5d950",
   "metadata": {},
   "outputs": [],
   "source": [
    "# Define parameters\n",
    "file_dirs = [\n",
    "    \"../ms_data/GFP-bead_Acetylation\",\n",
    "    \"../ms_data/GFP-bead_Acetylation\",\n",
    "    \"../ms_data/Strp-bead_Acetylation\",\n",
    "    \"../ms_data/Strp-bead_Acetylation\",\n",
    "]\n",
    "filenames = [\n",
    "    '20170707_QexHF2_RSLC2_Hollenstein_Hartl_UW_MFPL_GFP_0mM_1',\n",
    "    '20170707_QexHF2_RSLC2_Hollenstein_Hartl_UW_MFPL_GFP_5mM_2',\n",
    "    '20170710_QexHF2_RSLC2_Hollenstein_Hartl_UW_MFPL_Strp_0mM_1',\n",
    "    '20170710_QexHF2_RSLC8_Hollenstein_Hartl_UW_MFPL_Strp_5mM_1',\n",
    "]\n",
    "output_dir = \"../plots/figure_2\""
   ]
  },
  {
   "cell_type": "code",
   "execution_count": 4,
   "id": "8a64a1ce-7382-4c28-9d7d-589e13bfc53e",
   "metadata": {},
   "outputs": [
    {
     "name": "stdout",
     "output_type": "stream",
     "text": [
      "../ms_data/GFP-bead_Acetylation\\20170707_QexHF2_RSLC2_Hollenstein_Hartl_UW_MFPL_GFP_0mM_1.mzML\n",
      "../ms_data/GFP-bead_Acetylation\\20170707_QexHF2_RSLC2_Hollenstein_Hartl_UW_MFPL_GFP_5mM_2.mzML\n",
      "../ms_data/Strp-bead_Acetylation\\20170710_QexHF2_RSLC2_Hollenstein_Hartl_UW_MFPL_Strp_0mM_1.mzML\n",
      "../ms_data/Strp-bead_Acetylation\\20170710_QexHF2_RSLC8_Hollenstein_Hartl_UW_MFPL_Strp_5mM_1.mzML\n"
     ]
    }
   ],
   "source": [
    "# Read mzml files\n",
    "msrun_container = maspy.core.MsrunContainer()\n",
    "for filename, file_dir in zip(filenames, file_dirs):\n",
    "    filepath = os.path.join(file_dir, filename + \".mzML\")\n",
    "    print(filepath)\n",
    "    maspy.reader.importMzml(filepath, msrunContainer=msrun_container)"
   ]
  },
  {
   "cell_type": "markdown",
   "id": "03bdb7bc-583e-4752-8537-bab7296389c1",
   "metadata": {},
   "source": [
    "## Plot figures"
   ]
  },
  {
   "cell_type": "code",
   "execution_count": 5,
   "id": "6e735cf5-9822-405e-93b7-e8d9c297768c",
   "metadata": {},
   "outputs": [],
   "source": [
    "fignames = [\n",
    "    \"nanobody_tic_plots_acetylated_vs_untreated.pdf\",\n",
    "    \"streptavidin_tic_plots_acetylated_vs_untreated.pdf\",\n",
    "]\n",
    "titles = [\"Anti-GFP nanobody\", \"Streptavidin\"]\n",
    "colors = {\n",
    "    filenames[0]: \"#B0B0B0\",  # \"#FD4C54\",\n",
    "    filenames[1]: \"#E73C40\",  # \"#00CAC0\",\n",
    "    filenames[2]: \"#B0B0B0\",  # \"#FD4C54\",\n",
    "    filenames[3]: \"#E73C40\",  # \"#00CAC0\",\n",
    "}\n",
    "light_colors = {\n",
    "    filenames[0]: \"#B0B0B0\", # \"#fe9498\",\n",
    "    filenames[1]: \"#f18a8c\",  # \"#83e3da\",\n",
    "    filenames[2]: \"#B0B0B0\", # \"#fe9498\",\n",
    "    filenames[3]: \"#f18a8c\",  # \"#83e3da\",\n",
    "}"
   ]
  },
  {
   "cell_type": "code",
   "execution_count": 6,
   "id": "e00435cb-e6e1-44ee-8e47-4fa006fd1820",
   "metadata": {},
   "outputs": [
    {
     "data": {
      "image/png": "[encoded data removed]",
      "text/plain": [
       "<Figure size 150x180 with 1 Axes>"
      ]
     },
     "metadata": {},
     "output_type": "display_data"
    },
    {
     "data": {
      "image/png": "[encoded data removed]",
      "text/plain": [
       "<Figure size 150x180 with 1 Axes>"
      ]
     },
     "metadata": {},
     "output_type": "display_data"
    }
   ],
   "source": [
    "for figname, title, names in zip(fignames, titles, (filenames[:2], filenames[2:4])):\n",
    "    figpath = os.path.join(output_dir, figname)\n",
    "\n",
    "    fig, ax = plt.subplots(1, 1, figsize=(1.5, 1.8))\n",
    "    \n",
    "    max_intensities = []\n",
    "    max_intensity = None\n",
    "    for name in names:\n",
    "        arrays = msrun_container.getArrays(\n",
    "            [\"tic\", \"basepeakI\", \"rt\"],\n",
    "            sort=\"rt\",\n",
    "            specfiles=name,\n",
    "            selector=lambda si: si.msLevel == 1,\n",
    "        )\n",
    "        arrays[\"rt\"] = arrays[\"rt\"] / 60\n",
    "        mask = (arrays[\"rt\"] > 9) & (arrays[\"rt\"] < 21)\n",
    "        \n",
    "        for key in arrays:\n",
    "            arrays[key] = arrays[key][mask]\n",
    "        max_intensity = arrays[\"tic\"].max() if max_intensity is None else max_intensity\n",
    "        arrays[\"tic percent\"] = arrays[\"tic\"] / max_intensity * 100\n",
    "\n",
    "        style = {\"color\": colors[name], \"lw\": 1}\n",
    "        ticplot(arrays[\"rt\"], arrays[\"tic percent\"], plotkwargs=style, ax=ax)\n",
    "\n",
    "    max_ylim = [0, 100]\n",
    "    ax.set_ylim(max_ylim)\n",
    "    ax.set_ylabel(ax.get_ylabel() + \" [%]\")\n",
    "\n",
    "    ax.set_title(title, fontsize=10)\n",
    "    fig.savefig(figpath, dpi=300)"
   ]
  }
 ],
 "metadata": {
  "kernelspec": {
   "display_name": "Python [conda env:test_230714]",
   "language": "python",
   "name": "conda-env-test_230714-py"
  },
  "language_info": {
   "codemirror_mode": {
    "name": "ipython",
    "version": 3
   },
   "file_extension": ".py",
   "mimetype": "text/x-python",
   "name": "python",
   "nbconvert_exporter": "python",
   "pygments_lexer": "ipython3",
   "version": "3.9.17"
  }
 },
 "nbformat": 4,
 "nbformat_minor": 5
}
