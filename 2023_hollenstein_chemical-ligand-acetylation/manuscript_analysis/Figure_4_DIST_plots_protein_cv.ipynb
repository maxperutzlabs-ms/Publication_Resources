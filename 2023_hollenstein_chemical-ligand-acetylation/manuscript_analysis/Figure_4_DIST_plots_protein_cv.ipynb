{
 "cells": [
  {
   "cell_type": "code",
   "execution_count": 1,
   "metadata": {},
   "outputs": [],
   "source": [
    "from IPython.display import display\n",
    "import os\n",
    "import sys\n",
    "\n",
    "import matplotlib.pyplot as plt\n",
    "import numpy as np\n",
    "import pandas as pd\n",
    "import scipy.stats\n",
    "import seaborn as sns\n",
    "\n",
    "import msreport\n",
    "\n",
    "sys.path.append(\"..\")\n",
    "from python_scripts import ticplot"
   ]
  },
  {
   "cell_type": "code",
   "execution_count": 2,
   "metadata": {},
   "outputs": [],
   "source": [
    "plt.rcParams[\"pdf.fonttype\"] = 42\n",
    "plt.rcParams[\"font.family\"] = \"Arial\""
   ]
  },
  {
   "cell_type": "markdown",
   "metadata": {},
   "source": [
    "## Define parameters, load qtables"
   ]
  },
  {
   "cell_type": "code",
   "execution_count": 3,
   "metadata": {},
   "outputs": [],
   "source": [
    "qtable_dir = \"../qtable_data\"\n",
    "qtable_basenames = [\n",
    "    \"GFP-Atg8_acetylated\",\n",
    "    \"GFP-Atg8_untreated\",\n",
    "]\n",
    "output_dir = \"../plots/figure_4\"\n",
    "treatments = [\"GFP-Atg8_acetylated\", \"GFP-Atg8_untreated\"]\n",
    "colors = {\n",
    "    \"GFP-Atg8_untreated\": \"#808080\",  # \"#00CAC0\",\n",
    "    \"GFP-Atg8_acetylated\": \"#E73C40\",  # \"#FD4C54\",\n",
    "}\n",
    "light_colors = {\n",
    "    \"GFP-Atg8_untreated\": \"#B0B0B0\",  # \"#83e3da\",\n",
    "    \"GFP-Atg8_acetylated\": \"#f18a8c\", # \"#fe9498\",\n",
    "}\n",
    "treatment_labels = {\n",
    "    \"GFP-Atg8_untreated\": \"Mock treated\",\n",
    "    \"GFP-Atg8_acetylated\": \"S-NHS-Ac treated\",\n",
    "}\n",
    "experiment_titles = {\n",
    "    \"Ctrl\": \"Control samples\",\n",
    "    \"Atg8\": \"GFP-Atg8 samples\",\n",
    "}"
   ]
  },
  {
   "cell_type": "code",
   "execution_count": 4,
   "metadata": {},
   "outputs": [],
   "source": [
    "qtables = {}\n",
    "for qtable_basename in qtable_basenames: \n",
    "    qtable = msreport.Qtable.load(qtable_dir, qtable_basename)\n",
    "    qtables[qtable_basename] = qtable"
   ]
  },
  {
   "cell_type": "markdown",
   "metadata": {},
   "source": [
    "## Plot figure"
   ]
  },
  {
   "cell_type": "code",
   "execution_count": 5,
   "metadata": {},
   "outputs": [],
   "source": [
    "figname = \"dist_plots_protein_cv_acetylated_vs_untreated.pdf\"\n",
    "figpath = os.path.join(output_dir, figname)\n"
   ]
  },
  {
   "cell_type": "code",
   "execution_count": 6,
   "metadata": {},
   "outputs": [
    {
     "data": {
      "image/png": "[encoded data removed]",
      "text/plain": [
       "<Figure size 380x180 with 2 Axes>"
      ]
     },
     "metadata": {},
     "output_type": "display_data"
    }
   ],
   "source": [
    "fig, axes = plt.subplots(1, 2, figsize=[3.8, 1.8])\n",
    "for ax, experiment_tag in zip(axes, [\"Ctrl\", \"Atg8\"]):\n",
    "    bins = np.linspace(0, 12, 25)\n",
    "\n",
    "    for treatment in treatments:\n",
    "        qtable = qtables[treatment]\n",
    "        experiment = [e for e in qtable.get_experiments() if experiment_tag in e][0]\n",
    "        expression_table = qtable.make_expression_table(samples_as_columns=True, exclude_invalid=True)\n",
    "        samples = qtable.get_samples(experiment=experiment)\n",
    "        cv = scipy.stats.variation(expression_table[samples], axis=1) * 100\n",
    "\n",
    "        ax.hist(\n",
    "            cv,\n",
    "            bins=bins,\n",
    "            cumulative=False,\n",
    "            histtype=\"stepfilled\",\n",
    "            color=light_colors[treatment],\n",
    "            label=treatment_labels[treatment],\n",
    "            zorder=3,\n",
    "        )\n",
    "        ax.hist(\n",
    "            cv,\n",
    "            bins=bins,\n",
    "            cumulative=False,\n",
    "            histtype=\"step\",\n",
    "            color=colors[treatment],\n",
    "            lw=1,\n",
    "            zorder=3,\n",
    "        )\n",
    "    ax.legend(\n",
    "        handlelength=0.7,\n",
    "        fontsize=6,\n",
    "        frameon=False\n",
    "    )\n",
    "        \n",
    "    # Spines\n",
    "    sns.despine(right=True, top=True, left=False, bottom=False)\n",
    "    for spine in ax.spines.values():\n",
    "        spine.set_color(\"#000000\")\n",
    "        spine.set_linewidth(0.5)\n",
    "    ax.spines[\"left\"].set_position((\"outward\", 5))\n",
    "    ax.spines[\"bottom\"].set_position((\"outward\", 0.4))\n",
    "\n",
    "    # Set limits\n",
    "    ax.set_xlim(-0.1, 8.1)\n",
    "\n",
    "    # Adjust grind lines\n",
    "    ax.yaxis.grid(\n",
    "        which=\"both\",\n",
    "        linestyle=\"solid\",\n",
    "        # dashes=(4, 1.5),\n",
    "        lw=0.5,\n",
    "        alpha=1,\n",
    "        color=\"#DDDDDD\",\n",
    "        zorder=0,\n",
    "    )\n",
    "    ax.xaxis.grid(False, which=\"both\")\n",
    "\n",
    "    # Tick and tick labels\n",
    "    ax.tick_params(\n",
    "        direction=\"out\",\n",
    "        length=1.5,\n",
    "        width=0.5,\n",
    "        colors=\"#000000\",\n",
    "        top=False,\n",
    "        right=False,\n",
    "        labelsize=6,\n",
    "    )\n",
    "    ax.xaxis.set_major_locator(plt.MultipleLocator(1))\n",
    "\n",
    "    ax.set_ylabel(\"# proteins\", fontsize=8)\n",
    "    ax.set_xlabel(\"Coefficient of variation [%]\", fontsize=8)\n",
    "    ax.set_title(experiment_titles[experiment_tag], fontsize=10)\n",
    "    ax.set_ylim(0, 130)\n",
    "\n",
    "fig.subplots_adjust(wspace=0.5)\n",
    "fig.savefig(figpath, dpi=300)"
   ]
  }
 ],
 "metadata": {
  "kernelspec": {
   "display_name": "Python [conda env:test_230714]",
   "language": "python",
   "name": "conda-env-test_230714-py"
  },
  "language_info": {
   "codemirror_mode": {
    "name": "ipython",
    "version": 3
   },
   "file_extension": ".py",
   "mimetype": "text/x-python",
   "name": "python",
   "nbconvert_exporter": "python",
   "pygments_lexer": "ipython3",
   "version": "3.9.17"
  }
 },
 "nbformat": 4,
 "nbformat_minor": 4
}
