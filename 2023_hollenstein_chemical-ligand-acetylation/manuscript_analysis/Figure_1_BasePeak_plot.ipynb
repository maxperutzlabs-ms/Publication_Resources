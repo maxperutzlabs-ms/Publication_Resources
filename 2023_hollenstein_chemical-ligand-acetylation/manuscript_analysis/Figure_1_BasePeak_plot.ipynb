{
 "cells": [
  {
   "cell_type": "code",
   "execution_count": 1,
   "id": "0aad4c6f-373f-4f80-b46d-33b33d17c8fb",
   "metadata": {},
   "outputs": [],
   "source": [
    "from IPython.display import display\n",
    "import os\n",
    "import sys\n",
    "\n",
    "import maspy.reader\n",
    "import matplotlib.pyplot as plt\n",
    "import pandas as pd\n",
    "import seaborn as sns\n",
    "\n",
    "sys.path.append(\"..\")\n",
    "from python_scripts import ticplot"
   ]
  },
  {
   "cell_type": "code",
   "execution_count": 2,
   "id": "1a561bc3-be3a-477b-b81f-a27adfe77125",
   "metadata": {},
   "outputs": [],
   "source": [
    "plt.rcParams[\"pdf.fonttype\"] = 42\n",
    "plt.rcParams[\"font.family\"] = \"Arial\""
   ]
  },
  {
   "cell_type": "markdown",
   "id": "5e9b5ebe-92bc-4871-b889-b33ac4840ab1",
   "metadata": {},
   "source": [
    "## Define parameters, load mzml files"
   ]
  },
  {
   "cell_type": "code",
   "execution_count": 3,
   "id": "8174638a-4825-48fa-bf6a-7d29f2f5d950",
   "metadata": {},
   "outputs": [],
   "source": [
    "# Define parameters\n",
    "file_dir = \"../ms_data/GFP-Atg8_trypsin_untreated\"\n",
    "filename = \"20171123_QexHF2_RSLC2_Hollenstein_Hartl_UW_MFPL_GFP_MA_unmod_Atg8GFP_tryp_digest_10per\"\n",
    "output_dir = \"../plots/figure_1\""
   ]
  },
  {
   "cell_type": "code",
   "execution_count": 4,
   "id": "8a64a1ce-7382-4c28-9d7d-589e13bfc53e",
   "metadata": {},
   "outputs": [
    {
     "data": {
      "text/plain": [
       "<maspy.core.MsrunContainer at 0x1d6f13a3af0>"
      ]
     },
     "execution_count": 4,
     "metadata": {},
     "output_type": "execute_result"
    }
   ],
   "source": [
    "# Read mzml files\n",
    "msrun_container = maspy.core.MsrunContainer()\n",
    "filepath = os.path.join(file_dir, filename + \".mzML\")\n",
    "maspy.reader.importMzml(filepath, msrunContainer=msrun_container)"
   ]
  },
  {
   "cell_type": "markdown",
   "id": "03bdb7bc-583e-4752-8537-bab7296389c1",
   "metadata": {},
   "source": [
    "## Plot figures"
   ]
  },
  {
   "cell_type": "code",
   "execution_count": 5,
   "id": "6e735cf5-9822-405e-93b7-e8d9c297768c",
   "metadata": {},
   "outputs": [],
   "source": [
    "figname = \"basepeak_plot.pdf\"\n",
    "figpath = os.path.join(output_dir, figname)\n",
    "\n",
    "colors = {filename: \"#000000\"} # \"#00CAC0\",\n",
    "light_colors = {filename: \"#808080\"} # \"#83e3da\","
   ]
  },
  {
   "cell_type": "code",
   "execution_count": 6,
   "id": "e00435cb-e6e1-44ee-8e47-4fa006fd1820",
   "metadata": {},
   "outputs": [
    {
     "data": {
      "image/png": "[encoded data removed]",
      "text/plain": [
       "<Figure size 300x180 with 1 Axes>"
      ]
     },
     "metadata": {},
     "output_type": "display_data"
    }
   ],
   "source": [
    "fig, ax = plt.subplots(1, 1, figsize=(3, 1.8))\n",
    "arrays = msrun_container.getArrays(\n",
    "    [\"tic\", \"basepeakI\", \"rt\"],\n",
    "    sort=\"rt\",\n",
    "    specfiles=filename,\n",
    "    selector=lambda si: si.msLevel == 1,\n",
    ")\n",
    "arrays[\"rt\"] = arrays[\"rt\"] / 60\n",
    "arrays[\"basepeak percent\"] = arrays[\"basepeakI\"] / max(arrays[\"basepeakI\"]) * 100\n",
    "style = {\"color\": colors[filename], \"lw\": 0.5}\n",
    "\n",
    "ticplot(arrays[\"rt\"], arrays[\"basepeak percent\"], plotkwargs=style, ax=ax)\n",
    "\n",
    "ax.fill_between(\n",
    "    x=arrays[\"rt\"],\n",
    "    y1=arrays[\"basepeak percent\"],\n",
    "    y2=[0] * len(arrays[\"basepeak percent\"]),\n",
    "    color=light_colors[filename],\n",
    "    alpha=0.5,\n",
    "    edgecolor=\"None\",\n",
    ")\n",
    "\n",
    "max_ylim = [0, 100]\n",
    "ax.set_ylim(max_ylim)\n",
    "ax.set_ylabel(\"Base peak intensity [%]\")\n",
    "fig.savefig(figpath, dpi=300)"
   ]
  }
 ],
 "metadata": {
  "kernelspec": {
   "display_name": "Python [conda env:test_230714]",
   "language": "python",
   "name": "conda-env-test_230714-py"
  },
  "language_info": {
   "codemirror_mode": {
    "name": "ipython",
    "version": 3
   },
   "file_extension": ".py",
   "mimetype": "text/x-python",
   "name": "python",
   "nbconvert_exporter": "python",
   "pygments_lexer": "ipython3",
   "version": "3.9.17"
  }
 },
 "nbformat": 4,
 "nbformat_minor": 5
}
