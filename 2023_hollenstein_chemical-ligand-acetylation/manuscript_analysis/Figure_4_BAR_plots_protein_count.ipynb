{
 "cells": [
  {
   "cell_type": "code",
   "execution_count": 1,
   "metadata": {},
   "outputs": [],
   "source": [
    "from IPython.display import display\n",
    "import os\n",
    "import sys\n",
    "\n",
    "import matplotlib.pyplot as plt\n",
    "import numpy as np\n",
    "import pandas as pd\n",
    "import seaborn as sns\n",
    "\n",
    "import msreport\n",
    "\n",
    "sys.path.append(\"..\")\n",
    "from python_scripts import ticplot"
   ]
  },
  {
   "cell_type": "code",
   "execution_count": 2,
   "metadata": {},
   "outputs": [],
   "source": [
    "plt.rcParams[\"pdf.fonttype\"] = 42\n",
    "plt.rcParams[\"font.family\"] = \"Arial\""
   ]
  },
  {
   "cell_type": "markdown",
   "metadata": {},
   "source": [
    "## Define parameters, load qtables"
   ]
  },
  {
   "cell_type": "code",
   "execution_count": 3,
   "metadata": {},
   "outputs": [],
   "source": [
    "qtable_dir = \"../qtable_data\"\n",
    "qtable_basenames = [\n",
    "    \"GFP-Atg8_acetylated\",\n",
    "    \"GFP-Atg8_untreated\",\n",
    "]\n",
    "output_dir = \"../plots/figure_4\"\n",
    "treatments = [\"GFP-Atg8_untreated\", \"GFP-Atg8_acetylated\"]\n",
    "colors = {\n",
    "    \"GFP-Atg8_untreated\": \"#808080\",  # \"#00CAC0\",\n",
    "    \"GFP-Atg8_acetylated\": \"#E73C40\",  # \"#FD4C54\",\n",
    "}\n",
    "light_colors = {\n",
    "    \"GFP-Atg8_untreated\": \"#B0B0B0\",  # \"#83e3da\",\n",
    "    \"GFP-Atg8_acetylated\": \"#f18a8c\", # \"#fe9498\",\n",
    "}\n",
    "treatment_labels = {\n",
    "    \"GFP-Atg8_untreated\": \"Mock treated\",\n",
    "    \"GFP-Atg8_acetylated\": \"S-NHS-Ac treated\",\n",
    "}"
   ]
  },
  {
   "cell_type": "code",
   "execution_count": 4,
   "metadata": {},
   "outputs": [],
   "source": [
    "qtables = {}\n",
    "for qtable_basename in qtable_basenames: \n",
    "    qtable = msreport.Qtable.load(qtable_dir, qtable_basename)\n",
    "    qtables[qtable_basename] = qtable"
   ]
  },
  {
   "cell_type": "markdown",
   "metadata": {},
   "source": [
    "## Plot figure"
   ]
  },
  {
   "cell_type": "code",
   "execution_count": 5,
   "metadata": {},
   "outputs": [],
   "source": [
    "figname = \"bar_plots_protein_count_acetylated_vs_untreated.pdf\"\n",
    "figpath = os.path.join(output_dir, figname)"
   ]
  },
  {
   "cell_type": "code",
   "execution_count": 6,
   "metadata": {},
   "outputs": [],
   "source": [
    "protein_numbers = []\n",
    "xtick_labels = []\n",
    "labels = []\n",
    "categories = []\n",
    "xlabel = \"GFP-Atg8\"\n",
    "for treatment in treatments:\n",
    "    qtable = qtables[treatment]\n",
    "    experiments = qtable.design[\"Experiment\"].unique()\n",
    "    experiments = sorted(experiments, key=lambda x: \"Atg8\" in x)\n",
    "    for experiment in experiments:\n",
    "        mask = (qtable[f\"Events {experiment}\"] >= 2) & ~qtable[\"Potential contaminant\"]\n",
    "        protein_numbers.append(mask.sum())\n",
    "        xtick_labels.append(\"+\" if \"Atg8\" in experiment else \"-\")\n",
    "        categories.append(treatment)\n",
    "    labels.extend([treatment_labels[treatment], \"_NONE\"])"
   ]
  },
  {
   "cell_type": "code",
   "execution_count": 7,
   "metadata": {},
   "outputs": [
    {
     "data": {
      "image/png": "[encoded data removed]",
      "text/plain": [
       "<Figure size 110x180 with 1 Axes>"
      ]
     },
     "metadata": {},
     "output_type": "display_data"
    }
   ],
   "source": [
    "fig, ax = plt.subplots(figsize=[1.1, 1.8])\n",
    "x_positions = range(len(protein_numbers))\n",
    "ax.bar(\n",
    "    x_positions,\n",
    "    protein_numbers,\n",
    "    color=[light_colors[t] for t in categories],\n",
    "    edgecolor=[colors[t] for t in categories],\n",
    "    label=labels,\n",
    "    lw=1,\n",
    "    zorder=2\n",
    ")\n",
    "\n",
    "# Spines\n",
    "sns.despine(right=True, top=True, left=False, bottom=False)\n",
    "for spine in ax.spines.values():\n",
    "    spine.set_color(\"#000000\")\n",
    "    spine.set_linewidth(0.5)\n",
    "ax.spines[\"left\"].set_position((\"outward\", 5))\n",
    "\n",
    "# Set limits\n",
    "ax.set_xlim((ax.get_xlim()[0] - 0.1, ax.get_xlim()[1] + 0.1))\n",
    "ax.set_ylim(0, 400)\n",
    "\n",
    "# Adjust grind lines\n",
    "ax.yaxis.grid(\n",
    "    which=\"both\",\n",
    "    linestyle=\"solid\",\n",
    "    # dashes=(4, 1.5),\n",
    "    lw=0.5,\n",
    "    alpha=1,\n",
    "    color=\"#DDDDDD\",\n",
    "    zorder=0,\n",
    ")\n",
    "ax.xaxis.grid(False, which=\"both\")\n",
    "\n",
    "# Tick and tick labels\n",
    "ax.tick_params(\n",
    "    direction=\"out\",\n",
    "    length=1.5,\n",
    "    width=0.5,\n",
    "    colors=\"#000000\",\n",
    "    top=False,\n",
    "    right=False,\n",
    "    labelsize=6,\n",
    ")\n",
    "ax.yaxis.set_major_locator(plt.MultipleLocator(100))\n",
    "\n",
    "ax.set_ylabel(\"# quantified yeast proteins\", fontsize=8)\n",
    "ax.set_xlabel(xlabel, fontsize=8)\n",
    "ax.set_xticks(x_positions, xtick_labels, rotation=0, fontsize=8)\n",
    "    \n",
    "legend = ax.legend(\n",
    "    handlelength=0.7,\n",
    "    fontsize=6,\n",
    "    loc=\"lower left\",\n",
    "    bbox_to_anchor=(-0.1, -0.5),\n",
    "    frameon=False,\n",
    ")\n",
    "legend._legend_box.align = \"left\"\n",
    "\n",
    "fig.savefig(figpath, dpi=300)"
   ]
  }
 ],
 "metadata": {
  "kernelspec": {
   "display_name": "Python [conda env:test_230714]",
   "language": "python",
   "name": "conda-env-test_230714-py"
  },
  "language_info": {
   "codemirror_mode": {
    "name": "ipython",
    "version": 3
   },
   "file_extension": ".py",
   "mimetype": "text/x-python",
   "name": "python",
   "nbconvert_exporter": "python",
   "pygments_lexer": "ipython3",
   "version": "3.9.17"
  }
 },
 "nbformat": 4,
 "nbformat_minor": 4
}
