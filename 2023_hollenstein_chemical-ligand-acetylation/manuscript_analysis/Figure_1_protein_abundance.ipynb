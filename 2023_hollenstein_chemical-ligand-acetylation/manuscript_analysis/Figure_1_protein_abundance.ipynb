{
 "cells": [
  {
   "cell_type": "code",
   "execution_count": 1,
   "id": "0aad4c6f-373f-4f80-b46d-33b33d17c8fb",
   "metadata": {},
   "outputs": [],
   "source": [
    "from IPython.display import display\n",
    "import os\n",
    "import sys\n",
    "\n",
    "import matplotlib.pyplot as plt\n",
    "import numpy as np\n",
    "import pandas as pd\n",
    "import seaborn as sns\n",
    "\n",
    "import msreport\n",
    "\n",
    "sys.path.append(\"..\")\n",
    "from python_scripts import ticplot"
   ]
  },
  {
   "cell_type": "code",
   "execution_count": 2,
   "id": "1a561bc3-be3a-477b-b81f-a27adfe77125",
   "metadata": {},
   "outputs": [],
   "source": [
    "plt.rcParams[\"pdf.fonttype\"] = 42\n",
    "plt.rcParams[\"font.family\"] = \"Arial\""
   ]
  },
  {
   "cell_type": "markdown",
   "id": "5e9b5ebe-92bc-4871-b889-b33ac4840ab1",
   "metadata": {},
   "source": [
    "## Define parameters, load mzml files"
   ]
  },
  {
   "cell_type": "code",
   "execution_count": 3,
   "id": "8174638a-4825-48fa-bf6a-7d29f2f5d950",
   "metadata": {},
   "outputs": [],
   "source": [
    "# Define parameters\n",
    "qtable_dir = \"../qtable_data\"\n",
    "qtable_basename = \"GFP-Atg8_trypsin_untreated\"\n",
    "output_dir = \"../plots/figure_1\""
   ]
  },
  {
   "cell_type": "code",
   "execution_count": 4,
   "id": "8a64a1ce-7382-4c28-9d7d-589e13bfc53e",
   "metadata": {},
   "outputs": [],
   "source": [
    "# Read qtable\n",
    "qtable = msreport.Qtable.load(qtable_dir, qtable_basename)\n",
    "# qtable.set_expression_by_tag(\"iBAQ intensity\", log2=True)"
   ]
  },
  {
   "cell_type": "markdown",
   "id": "03bdb7bc-583e-4752-8537-bab7296389c1",
   "metadata": {},
   "source": [
    "## Plot figures"
   ]
  },
  {
   "cell_type": "code",
   "execution_count": 5,
   "id": "6e735cf5-9822-405e-93b7-e8d9c297768c",
   "metadata": {},
   "outputs": [],
   "source": [
    "figname = \"protein_abundance_plot.pdf\"\n",
    "figpath = os.path.join(output_dir, figname)\n",
    "\n",
    "colors = {\n",
    "    \"GFP-Nanobody\": \"#E73C40\",\n",
    "    \"ATG8\": \"#40B7B5\",\n",
    "    \"Yeast protein\": \"#025a77\",\n",
    "    \"Trypsin\": \"#025a77\",  # \"#808080\",\n",
    "}\n",
    "colors_light = {\n",
    "    \"GFP-Nanobody\": \"#f18a8c\",\n",
    "    \"ATG8\": \"#8ad6d5\",\n",
    "    \"Yeast protein\": \"#03779d\",\n",
    "    \"Trypsin\": \"#03779d\",  # \"#B0B0B0\",\n",
    "}"
   ]
  },
  {
   "cell_type": "code",
   "execution_count": 6,
   "id": "2c0946f2-3e7a-4e71-b5dc-207cf43316ac",
   "metadata": {},
   "outputs": [],
   "source": [
    "# Sort values according to intensity\n",
    "data = qtable.data.sort_values(\"Expression GFP_Atg8\", ascending=False).reset_index()\n",
    "\n",
    "# Select which proteins will be displayed\n",
    "mask = data[\"Gene name\"] == \"ATG8\"\n",
    "mask[0:10] = True\n",
    "\n",
    "# Change gene names of proteins\n",
    "data.loc[data[\"Gene name\"] == \"GFPNanobody\", \"Gene name\"] = data[\"Protein name\"][data[\"Gene name\"] == \"GFPNanobody\"]\n",
    "data.loc[data[\"Protein name\"] == \"Trypsin\", \"Gene name\"] = data[\"Protein name\"][data[\"Protein name\"] == \"Trypsin\"]\n",
    "data.loc[[1, 3, 4, 5, 6, 7, 8, 9], \"Gene name\"] = \"Yeast protein\"\n",
    "\n",
    "# Define colors for each protein\n",
    "data = data.loc[mask, [\"Gene name\", \"Expression GFP_Atg8\"]]\n",
    "data[\"Colors\"] = [colors[gn] for gn in data[\"Gene name\"]]\n",
    "data[\"Colors light\"] = [colors_light[gn] for gn in data[\"Gene name\"]]"
   ]
  },
  {
   "cell_type": "code",
   "execution_count": 7,
   "id": "e00435cb-e6e1-44ee-8e47-4fa006fd1820",
   "metadata": {},
   "outputs": [
    {
     "data": {
      "image/png": "[encoded data removed]",
      "text/plain": [
       "<Figure size 300x180 with 1 Axes>"
      ]
     },
     "metadata": {},
     "output_type": "display_data"
    }
   ],
   "source": [
    "bar_width = 0.7\n",
    "ylim = (5.1, 12)\n",
    "xlim = (-bar_width, 10 + bar_width)\n",
    "\n",
    "y = np.log10(np.power(2, data[\"Expression GFP_Atg8\"]))\n",
    "x = [j for j, i in enumerate(y)]\n",
    "\n",
    "xticklabels = [i + 1 for i in data.index]\n",
    "\n",
    "# Plot data\n",
    "sns.set_style(\"white\")\n",
    "fig, ax = plt.subplots(1, 1, figsize=(3, 1.8))\n",
    "\n",
    "ax.bar(\n",
    "    x,\n",
    "    y,\n",
    "    width=bar_width,\n",
    "    align=\"center\",\n",
    "    edgecolor=\"None\",\n",
    "    color=data[\"Colors light\"],\n",
    ")\n",
    "ax.bar(\n",
    "    x,\n",
    "    y,\n",
    "    width=bar_width,\n",
    "    align=\"center\",\n",
    "    edgecolor=data[\"Colors\"],\n",
    "    color=\"None\",\n",
    "    lw=0.75,\n",
    ")\n",
    "\n",
    "# Ticks\n",
    "ax.set_yticks(range(13))\n",
    "ax.set_xticks(range(len(x)))\n",
    "ax.set_xticklabels(xticklabels)\n",
    "ax.tick_params(\n",
    "    which=\"major\",\n",
    "    direction=\"out\",\n",
    "    length=1.5,\n",
    "    width=0.3,\n",
    "    colors=\"#333333\",\n",
    "    top=False,\n",
    "    right=False,\n",
    "    bottom=False,\n",
    "    labelsize=6,\n",
    ")\n",
    "\n",
    "# Spines\n",
    "sns.despine(right=True, top=True, left=False, bottom=False)\n",
    "for spine in ax.spines.values():\n",
    "    spine.set_color(\"#000000\")\n",
    "    spine.set_linewidth(0.5)\n",
    "# ax.spines[\"bottom\"].set_position((\"outward\", 5))\n",
    "\n",
    "# Axis labels\n",
    "ax.set_xlabel(\"Protein intensity rank\", fontsize=8)\n",
    "ax.set_ylabel(\"Protein Intensity [log10]\", fontsize=8)\n",
    "\n",
    "# Adjust grind lines\n",
    "ax.yaxis.grid(\n",
    "    which=\"both\",\n",
    "    linestyle=\"solid\",\n",
    "    lw=0.5,\n",
    "    alpha=1,\n",
    "    color=\"#DDDDDD\",\n",
    "    zorder=0,\n",
    ")\n",
    "ax.xaxis.grid(False, which=\"both\")\n",
    "\n",
    "# Plot limits\n",
    "ax.set_ylim(ylim)\n",
    "ax.set_xlim(xlim)\n",
    "\n",
    "fig.savefig(figpath, dpi=300)"
   ]
  }
 ],
 "metadata": {
  "kernelspec": {
   "display_name": "Python [conda env:test_230714]",
   "language": "python",
   "name": "conda-env-test_230714-py"
  },
  "language_info": {
   "codemirror_mode": {
    "name": "ipython",
    "version": 3
   },
   "file_extension": ".py",
   "mimetype": "text/x-python",
   "name": "python",
   "nbconvert_exporter": "python",
   "pygments_lexer": "ipython3",
   "version": "3.9.17"
  }
 },
 "nbformat": 4,
 "nbformat_minor": 5
}
