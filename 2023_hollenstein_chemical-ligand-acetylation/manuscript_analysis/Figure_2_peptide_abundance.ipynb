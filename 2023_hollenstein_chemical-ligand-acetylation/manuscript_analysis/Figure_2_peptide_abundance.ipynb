{
 "cells": [
  {
   "cell_type": "code",
   "execution_count": 1,
   "id": "0aad4c6f-373f-4f80-b46d-33b33d17c8fb",
   "metadata": {},
   "outputs": [],
   "source": [
    "from IPython.display import display\n",
    "import os\n",
    "import sys\n",
    "\n",
    "import matplotlib.pyplot as plt\n",
    "import numpy as np\n",
    "import pandas as pd\n",
    "import seaborn as sns\n",
    "\n",
    "import msreport\n",
    "\n",
    "sys.path.append(\"..\")\n",
    "from python_scripts import ticplot"
   ]
  },
  {
   "cell_type": "code",
   "execution_count": 2,
   "id": "1a561bc3-be3a-477b-b81f-a27adfe77125",
   "metadata": {},
   "outputs": [],
   "source": [
    "plt.rcParams[\"pdf.fonttype\"] = 42\n",
    "plt.rcParams[\"font.family\"] = \"Arial\""
   ]
  },
  {
   "cell_type": "markdown",
   "id": "5e9b5ebe-92bc-4871-b889-b33ac4840ab1",
   "metadata": {},
   "source": [
    "## Define parameters, load qtables"
   ]
  },
  {
   "cell_type": "code",
   "execution_count": 3,
   "id": "8174638a-4825-48fa-bf6a-7d29f2f5d950",
   "metadata": {},
   "outputs": [],
   "source": [
    "# Define parameters\n",
    "qtable_dir = \"../qtable_data\"\n",
    "qtable_basenames = [\n",
    "    \"GFP-bead_Acetylation_peptides\",\n",
    "    \"Strp-bead_Acetylation_peptides\",\n",
    "]\n",
    "output_dir = \"../plots/figure_2\""
   ]
  },
  {
   "cell_type": "code",
   "execution_count": 4,
   "id": "8a64a1ce-7382-4c28-9d7d-589e13bfc53e",
   "metadata": {},
   "outputs": [],
   "source": [
    "# Read qtable\n",
    "qtables = {}\n",
    "for qtable_basename in qtable_basenames: \n",
    "    qtable = msreport.Qtable.load(qtable_dir, qtable_basename)\n",
    "    qtables[qtable_basename] = qtable"
   ]
  },
  {
   "cell_type": "markdown",
   "id": "03bdb7bc-583e-4752-8537-bab7296389c1",
   "metadata": {},
   "source": [
    "## Plot figures"
   ]
  },
  {
   "cell_type": "code",
   "execution_count": 5,
   "id": "6e735cf5-9822-405e-93b7-e8d9c297768c",
   "metadata": {},
   "outputs": [],
   "source": [
    "fignames = {}\n",
    "for qtable_basename in qtable_basenames:\n",
    "    fignames[qtable_basename] = f\"{qtable_basename}_abundance_plot.pdf\""
   ]
  },
  {
   "cell_type": "code",
   "execution_count": 6,
   "id": "2c0946f2-3e7a-4e71-b5dc-207cf43316ac",
   "metadata": {},
   "outputs": [],
   "source": [
    "def prepare_plotting_data(qtable, protein_id, sort_by, num_peptides):\n",
    "    # Select target protein peptides\n",
    "    data = qtable.data[qtable.data[\"Representative protein\"] == protein_id]\n",
    "\n",
    "    # Sort values according to reference experiment expression\n",
    "    experiments = qtable.get_experiments()\n",
    "    data = data.sort_values(sort_by, ascending=False).reset_index()\n",
    "\n",
    "    # Select peptides to show\n",
    "    mask = ~data[sort_by].isna()\n",
    "    mask[num_peptides:] = False\n",
    "    data = data[mask]\n",
    "\n",
    "    return data"
   ]
  },
  {
   "cell_type": "code",
   "execution_count": 7,
   "id": "d096cf9c-523a-4fbe-97a2-5c922ad89e67",
   "metadata": {},
   "outputs": [],
   "source": [
    "def generate_plot(figure, plotting_data, expression_columns, group_spacing):\n",
    "    num_bars = len(plotting_data)\n",
    "    bar_width = (1 - group_spacing) / num_bars\n",
    "    ax = figure.axes[0]\n",
    "\n",
    "    sns.set_style(\"white\")\n",
    "    xtick_labels = []\n",
    "    xtick_positions = []\n",
    "    max_y = np.power(2, plotting_data[expression_columns].max().max())\n",
    "    \n",
    "    for pos, expression_column in enumerate(expression_columns):\n",
    "        y = np.power(2, plotting_data[expression_column])\n",
    "        y = y / max_y * 100\n",
    "        x = [pos + j * bar_width for j, _ in enumerate(y)]\n",
    "        xtick_label = expression_column.split(\"Acetylation \")[1].replace(\"nm\", \" nm\")\n",
    "        xtick_labels.append(xtick_label)\n",
    "        xtick_positions.append(np.mean(x))\n",
    "\n",
    "        bars = ax.bar(\n",
    "            x,\n",
    "            y,\n",
    "            width=bar_width,\n",
    "            align=\"center\",\n",
    "            edgecolor=\"None\",\n",
    "            color=plotting_data[\"Colors light\"],\n",
    "            zorder=2,\n",
    "        )\n",
    "        ax.bar(\n",
    "            x,\n",
    "            y,\n",
    "            width=bar_width,\n",
    "            align=\"center\",\n",
    "            edgecolor=plotting_data[\"Colors\"],\n",
    "            color=\"None\",\n",
    "            lw=0.75,\n",
    "            zorder=2,\n",
    "        )\n",
    "    \n",
    "    # Add legend\n",
    "    legend = ax.legend(\n",
    "        bars,\n",
    "        plotting_data[\"Peptide sequence\"],\n",
    "        handlelength=0.7,\n",
    "        fontsize=6,\n",
    "        loc=\"upper left\",\n",
    "        bbox_to_anchor=(0, -0.5),\n",
    "        frameon=False,\n",
    "        title=\"Peptide sequence\",\n",
    "        title_fontsize=8,\n",
    "    )\n",
    "    legend._legend_box.align = \"left\"\n",
    "\n",
    "    # Ticks\n",
    "    ax.set_xticks(xtick_positions, xtick_labels, fontsize=6, rotation=90)\n",
    "    ax.tick_params(\n",
    "        which=\"major\",\n",
    "        direction=\"out\",\n",
    "        length=1.5,\n",
    "        width=0.3,\n",
    "        colors=\"#333333\",\n",
    "        top=False,\n",
    "        right=False,\n",
    "        bottom=False,\n",
    "        labelsize=6,\n",
    "    )\n",
    "\n",
    "    # Spines\n",
    "    sns.despine(right=True, top=True, left=False, bottom=False)\n",
    "    for spine in ax.spines.values():\n",
    "        spine.set_color(\"#000000\")\n",
    "        spine.set_linewidth(0.5)\n",
    "\n",
    "    # Axis labels\n",
    "    ax.set_xlabel(\"S-NHS-ac treatment\", fontsize=8)\n",
    "    ax.set_ylabel(\"Peptide Intensity [%]\", fontsize=8)\n",
    "\n",
    "    # Adjust grind lines\n",
    "    ax.yaxis.grid(\n",
    "        which=\"both\",\n",
    "        linestyle=\"solid\",\n",
    "        lw=0.5,\n",
    "        alpha=1,\n",
    "        color=\"#DDDDDD\",\n",
    "    )\n",
    "    ax.xaxis.grid(False, which=\"both\")"
   ]
  },
  {
   "cell_type": "code",
   "execution_count": 8,
   "id": "4e5815f3-9086-48dd-ac01-55e651259c27",
   "metadata": {},
   "outputs": [
    {
     "data": {
      "image/png": "[encoded data removed]",
      "text/plain": [
       "<Figure size 210x180 with 1 Axes>"
      ]
     },
     "metadata": {},
     "output_type": "display_data"
    }
   ],
   "source": [
    "qtable_basename = \"GFP-bead_Acetylation_peptides\"\n",
    "qtable = qtables[qtable_basename]\n",
    "protein_id = \"3OGO\"\n",
    "expression_columns = [f\"Expression {exp}\" for exp in qtable.get_experiments()]\n",
    "sort_by = expression_columns[0]\n",
    "\n",
    "num_peptides = 5\n",
    "colors = [\"#063853\", \"#025a77\", \"#007f96\", \"#00a3ae\", \"#40B7B5\"]\n",
    "title = \"Anti-GFP nanobody\"\n",
    "group_spacing = 0.25\n",
    "\n",
    "plotting_data = prepare_plotting_data(qtable, protein_id, sort_by, num_peptides)\n",
    "plotting_data[\"Colors\"] = [colors[0] for i in range(len(plotting_data))]\n",
    "plotting_data[\"Colors light\"] = colors[:len(plotting_data)]\n",
    "\n",
    "fig, ax = plt.subplots(1, 1, figsize=(2.1, 1.8))\n",
    "generate_plot(fig, plotting_data, expression_columns, group_spacing)\n",
    "ax.set_title(title, fontsize=10)\n",
    "xticks = []\n",
    "for tick in ax.get_xticklabels():\n",
    "    conc = float(tick.get_text().split(\"nM\")[0]) / 1000\n",
    "    xticks.append(f\"{conc:g} mM\")\n",
    "ax.set_xticklabels(xticks)\n",
    "\n",
    "figpath = os.path.join(output_dir, fignames[qtable_basename])\n",
    "fig.savefig(figpath, dpi=300)"
   ]
  },
  {
   "cell_type": "code",
   "execution_count": 9,
   "id": "89995330-6f27-4c10-aa4f-5421db23b7c1",
   "metadata": {},
   "outputs": [
    {
     "data": {
      "image/png": "[encoded data removed]",
      "text/plain": [
       "<Figure size 90x180 with 1 Axes>"
      ]
     },
     "metadata": {},
     "output_type": "display_data"
    }
   ],
   "source": [
    "qtable_basename = \"Strp-bead_Acetylation_peptides\"\n",
    "qtable = qtables[qtable_basename]\n",
    "protein_id = \"contam_P22629\"\n",
    "expression_columns = [f\"Expression {exp}\" for exp in qtable.get_experiments()]\n",
    "sort_by = expression_columns[0]\n",
    "\n",
    "num_peptides = 1\n",
    "colors = [\"#063853\", \"#025a77\", \"#007f96\", \"#00a3ae\", \"#40B7B5\"]\n",
    "title = \"Streptavidin\"\n",
    "group_spacing = 0.4\n",
    "\n",
    "plotting_data = prepare_plotting_data(qtable, protein_id, sort_by, num_peptides)\n",
    "plotting_data[\"Colors\"] = [colors[0] for i in range(len(plotting_data))]\n",
    "plotting_data[\"Colors light\"] = [colors[2] for i in range(len(plotting_data))]\n",
    "\n",
    "fig, ax = plt.subplots(1, 1, figsize=(0.9, 1.8))\n",
    "generate_plot(fig, plotting_data, expression_columns, group_spacing)\n",
    "ax.set_title(title, fontsize=10)\n",
    "xticks = []\n",
    "for tick in ax.get_xticklabels():\n",
    "    conc = float(tick.get_text().split(\"nM\")[0]) / 1000\n",
    "    xticks.append(f\"{conc:g} mM\")\n",
    "ax.set_xticklabels(xticks)\n",
    "\n",
    "figpath = os.path.join(output_dir, fignames[qtable_basename])\n",
    "fig.savefig(figpath, dpi=300)"
   ]
  }
 ],
 "metadata": {
  "kernelspec": {
   "display_name": "Python [conda env:test_230714]",
   "language": "python",
   "name": "conda-env-test_230714-py"
  },
  "language_info": {
   "codemirror_mode": {
    "name": "ipython",
    "version": 3
   },
   "file_extension": ".py",
   "mimetype": "text/x-python",
   "name": "python",
   "nbconvert_exporter": "python",
   "pygments_lexer": "ipython3",
   "version": "3.9.17"
  }
 },
 "nbformat": 4,
 "nbformat_minor": 5
}
