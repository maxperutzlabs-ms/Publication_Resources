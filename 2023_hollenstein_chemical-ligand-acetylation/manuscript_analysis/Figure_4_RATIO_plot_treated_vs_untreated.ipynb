{
 "cells": [
  {
   "cell_type": "code",
   "execution_count": 1,
   "metadata": {},
   "outputs": [],
   "source": [
    "from IPython.display import display\n",
    "import os\n",
    "import sys\n",
    "\n",
    "import matplotlib.pyplot as plt\n",
    "import numpy as np\n",
    "import pandas as pd\n",
    "import seaborn as sns\n",
    "\n",
    "import msreport\n",
    "\n",
    "sys.path.append(\"..\")\n",
    "from python_scripts import ticplot"
   ]
  },
  {
   "cell_type": "code",
   "execution_count": 2,
   "metadata": {},
   "outputs": [],
   "source": [
    "plt.rcParams[\"pdf.fonttype\"] = 42\n",
    "plt.rcParams[\"font.family\"] = \"Arial\""
   ]
  },
  {
   "cell_type": "markdown",
   "metadata": {},
   "source": [
    "## Define parameters, load qtables"
   ]
  },
  {
   "cell_type": "code",
   "execution_count": 3,
   "metadata": {},
   "outputs": [],
   "source": [
    "qtable_dir = \"../qtable_data\"\n",
    "qtable_basenames = [\n",
    "    \"GFP-Atg8_acetylated\",\n",
    "    \"GFP-Atg8_untreated\",\n",
    "]\n",
    "output_dir = \"../plots/figure_4\"\n",
    "treatments = [\"GFP-Atg8_untreated\", \"GFP-Atg8_acetylated\"]"
   ]
  },
  {
   "cell_type": "code",
   "execution_count": 4,
   "metadata": {},
   "outputs": [],
   "source": [
    "qtables = {}\n",
    "for qtable_basename in qtable_basenames: \n",
    "    qtable = msreport.Qtable.load(qtable_dir, qtable_basename)\n",
    "    qtables[qtable_basename] = qtable"
   ]
  },
  {
   "cell_type": "markdown",
   "metadata": {},
   "source": [
    "## Plot figure"
   ]
  },
  {
   "cell_type": "code",
   "execution_count": 5,
   "metadata": {},
   "outputs": [],
   "source": [
    "figname = \"ratio_plots_acetylated_vs_untreated.pdf\"\n",
    "figpath = os.path.join(output_dir, figname)"
   ]
  },
  {
   "cell_type": "code",
   "execution_count": 6,
   "metadata": {},
   "outputs": [],
   "source": [
    "tables = []\n",
    "treatment_columns = {}\n",
    "for treatment in treatments:\n",
    "    qtable = qtables[treatment]\n",
    "    experiment = [e for e in qtable.get_experiments() if \"Atg8\" in e][0]\n",
    "    samples = qtable.get_samples(experiment)\n",
    "    expression_columns = [qtable.get_expression_column(sample) for sample in samples]\n",
    "    treatment_columns[treatment] = expression_columns\n",
    "\n",
    "    mask = (qtable[f\"Events {experiment}\"] == 3) & ~qtable[\"Potential contaminant\"]\n",
    "    columns = [\"Representative protein\"] + expression_columns\n",
    "    table = qtable.data.loc[mask, columns]\n",
    "    table.set_index(\"Representative protein\", inplace=True)\n",
    "    tables.append(table)\n",
    "protein_table = tables[0].join(tables[1], how=\"inner\")\n",
    "protein_table.reset_index(inplace=True)"
   ]
  },
  {
   "cell_type": "code",
   "execution_count": 7,
   "metadata": {},
   "outputs": [],
   "source": [
    "def calculate_median_ratios(table, cols1, cols2) -> list[float]:\n",
    "    medians = []\n",
    "    for col1, col2 in zip(cols1, cols2):\n",
    "        medians.append(np.median(table[col2] - table[col1]))\n",
    "    return np.power(2, medians)"
   ]
  },
  {
   "cell_type": "code",
   "execution_count": 8,
   "metadata": {},
   "outputs": [
    {
     "data": {
      "image/png": "[encoded data removed]",
      "text/plain": [
       "<Figure size 110x180 with 1 Axes>"
      ]
     },
     "metadata": {},
     "output_type": "display_data"
    }
   ],
   "source": [
    "cols1 = treatment_columns[treatments[0]]\n",
    "cols2 = treatment_columns[treatments[1]]\n",
    "\n",
    "selection = protein_table[\"Representative protein\"] == \"3OGO\"\n",
    "nanobody_ratios = calculate_median_ratios(protein_table[selection], cols1, cols2)\n",
    "\n",
    "selection = protein_table[\"Representative protein\"] != \"3OGO\"\n",
    "yeast_ratios = calculate_median_ratios(protein_table[selection], cols1, cols2)\n",
    "\n",
    "selection = protein_table[\"Representative protein\"] == \"P38182\"\n",
    "atg8_ratios = calculate_median_ratios(protein_table[selection], cols1, cols2)\n",
    "\n",
    "ratio_groups = [atg8_ratios, yeast_ratios, nanobody_ratios]\n",
    "xtick_labels = [\"GFP-Atg8\", \"Median of\\nyeast proteins\", \"Anti-GFP\\nnanobody\"]\n",
    "\n",
    "colors = [\"#40B7B5\", \"#025a77\", \"#E73C40\"]\n",
    "colors_light = [\"#8ad6d5\", \"#03779d\", \"#f18a8c\"]\n",
    "\n",
    "fig, ax = plt.subplots(figsize=[1.1, 1.8])\n",
    "for position, ratios in enumerate(ratio_groups):\n",
    "    ratios = sorted(ratios)\n",
    "    # x_points = [position + shift for shift in [0.1, -0.1, 0]]\n",
    "    x_points = [position] * len(ratios)\n",
    "    color = colors[position]\n",
    "    light_color = colors_light[position]\n",
    "    ax.plot(\n",
    "        [position, position],\n",
    "        [0, np.mean(ratios)],\n",
    "        lw=1.5,\n",
    "        color=color,\n",
    "        zorder=3\n",
    "    )\n",
    "    ax.scatter(\n",
    "        x_points,\n",
    "        ratios,\n",
    "        s=30,\n",
    "        edgecolor=color,\n",
    "        color=light_color,\n",
    "        zorder=3\n",
    "    )\n",
    "\n",
    "# Spines\n",
    "sns.despine(right=True, top=True, left=False, bottom=False)\n",
    "for spine in ax.spines.values():\n",
    "    spine.set_color(\"#000000\")\n",
    "    spine.set_linewidth(0.5)\n",
    "ax.spines[\"left\"].set_position((\"outward\", 5))\n",
    "\n",
    "# Add a line at ratio 1\n",
    "xlim = ax.get_xlim()\n",
    "xlim = (xlim[0] - 0.1, xlim[1] + 0.1)\n",
    "ax.plot(xlim, [1, 1], color=\"#000000\", lw=0.75, zorder=2, dashes=(4, 4))\n",
    "\n",
    "# Set limits\n",
    "ax.set_ylim(0, 5)\n",
    "ax.set_xlim(xlim)\n",
    "\n",
    "# Adjust grind lines\n",
    "ax.yaxis.grid(\n",
    "    which=\"both\",\n",
    "    linestyle=\"solid\",\n",
    "    # dashes=(4, 1.5),\n",
    "    lw=0.5,\n",
    "    alpha=1,\n",
    "    color=\"#DDDDDD\",\n",
    "    zorder=0,\n",
    ")\n",
    "ax.xaxis.grid(False, which=\"both\")\n",
    "\n",
    "# Tick and tick labels\n",
    "ax.tick_params(\n",
    "    direction=\"out\",\n",
    "    length=1.5,\n",
    "    width=0.5,\n",
    "    colors=\"#000000\",\n",
    "    top=False,\n",
    "    right=False,\n",
    "    labelsize=6,\n",
    ")\n",
    "ax.set_ylabel(\"S-NHS-Ac vs mock treated\\nratio of protein intensities\", fontsize=8)\n",
    "ax.set_xticks(\n",
    "    range(len(xtick_labels)),\n",
    "    xtick_labels,\n",
    "    rotation=90,\n",
    "    fontsize=8,\n",
    ")\n",
    "\n",
    "fig.savefig(figpath, dpi=300)\n",
    "    "
   ]
  }
 ],
 "metadata": {
  "kernelspec": {
   "display_name": "Python [conda env:test_230714]",
   "language": "python",
   "name": "conda-env-test_230714-py"
  },
  "language_info": {
   "codemirror_mode": {
    "name": "ipython",
    "version": 3
   },
   "file_extension": ".py",
   "mimetype": "text/x-python",
   "name": "python",
   "nbconvert_exporter": "python",
   "pygments_lexer": "ipython3",
   "version": "3.9.17"
  }
 },
 "nbformat": 4,
 "nbformat_minor": 4
}
